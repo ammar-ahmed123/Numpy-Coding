{
 "cells": [
  {
   "cell_type": "code",
   "execution_count": 1,
   "metadata": {},
   "outputs": [],
   "source": [
    "import numpy as np"
   ]
  },
  {
   "cell_type": "code",
   "execution_count": 2,
   "metadata": {},
   "outputs": [],
   "source": [
    "x=np.random.randn(4,5)"
   ]
  },
  {
   "cell_type": "code",
   "execution_count": 3,
   "metadata": {},
   "outputs": [
    {
     "data": {
      "text/plain": [
       "array([[ 1.82865009,  1.1726096 , -0.44484355, -0.42523048,  0.38834818],\n",
       "       [ 0.23356614, -0.24472363,  0.15559659, -0.26545222, -0.27897841],\n",
       "       [-0.57169567,  0.48773096, -1.40362845,  0.27489986, -0.16198002],\n",
       "       [-0.46675394,  0.78089206,  0.73257465,  0.42077903, -1.68625404]])"
      ]
     },
     "execution_count": 3,
     "metadata": {},
     "output_type": "execute_result"
    }
   ],
   "source": [
    "x"
   ]
  },
  {
   "cell_type": "code",
   "execution_count": 5,
   "metadata": {},
   "outputs": [
    {
     "data": {
      "text/plain": [
       "array([[[ 1.82865009,  1.1726096 , -0.44484355, -0.42523048,\n",
       "          0.38834818],\n",
       "        [ 0.23356614, -0.24472363,  0.15559659, -0.26545222,\n",
       "         -0.27897841]],\n",
       "\n",
       "       [[-0.57169567,  0.48773096, -1.40362845,  0.27489986,\n",
       "         -0.16198002],\n",
       "        [-0.46675394,  0.78089206,  0.73257465,  0.42077903,\n",
       "         -1.68625404]]])"
      ]
     },
     "execution_count": 5,
     "metadata": {},
     "output_type": "execute_result"
    }
   ],
   "source": [
    "x.reshape(2,2,5)"
   ]
  },
  {
   "cell_type": "code",
   "execution_count": 8,
   "metadata": {},
   "outputs": [
    {
     "data": {
      "text/plain": [
       "array([[[ 1.82865009,  1.1726096 , -0.44484355, -0.42523048,\n",
       "          0.38834818],\n",
       "        [-0.57169567,  0.48773096, -1.40362845,  0.27489986,\n",
       "         -0.16198002]],\n",
       "\n",
       "       [[ 0.23356614, -0.24472363,  0.15559659, -0.26545222,\n",
       "         -0.27897841],\n",
       "        [-0.46675394,  0.78089206,  0.73257465,  0.42077903,\n",
       "         -1.68625404]]])"
      ]
     },
     "execution_count": 8,
     "metadata": {},
     "output_type": "execute_result"
    }
   ],
   "source": [
    "x.reshape((2,2,5),order=\"F\")"
   ]
  },
  {
   "cell_type": "code",
   "execution_count": 9,
   "metadata": {},
   "outputs": [
    {
     "data": {
      "text/plain": [
       "array([[[ 1.82865009,  1.1726096 , -0.44484355, -0.42523048,\n",
       "          0.38834818],\n",
       "        [ 0.23356614, -0.24472363,  0.15559659, -0.26545222,\n",
       "         -0.27897841]],\n",
       "\n",
       "       [[-0.57169567,  0.48773096, -1.40362845,  0.27489986,\n",
       "         -0.16198002],\n",
       "        [-0.46675394,  0.78089206,  0.73257465,  0.42077903,\n",
       "         -1.68625404]]])"
      ]
     },
     "execution_count": 9,
     "metadata": {},
     "output_type": "execute_result"
    }
   ],
   "source": [
    "x.reshape(2,2,-1)"
   ]
  },
  {
   "cell_type": "code",
   "execution_count": 10,
   "metadata": {},
   "outputs": [
    {
     "data": {
      "text/plain": [
       "array([[ 1.82865009,  1.1726096 , -0.44484355, -0.42523048,  0.38834818],\n",
       "       [ 0.23356614, -0.24472363,  0.15559659, -0.26545222, -0.27897841],\n",
       "       [-0.57169567,  0.48773096, -1.40362845,  0.27489986, -0.16198002],\n",
       "       [-0.46675394,  0.78089206,  0.73257465,  0.42077903, -1.68625404]])"
      ]
     },
     "execution_count": 10,
     "metadata": {},
     "output_type": "execute_result"
    }
   ],
   "source": [
    "x"
   ]
  },
  {
   "cell_type": "code",
   "execution_count": 11,
   "metadata": {},
   "outputs": [
    {
     "data": {
      "text/plain": [
       "array([ 1.82865009,  1.1726096 , -0.44484355, -0.42523048,  0.38834818,\n",
       "        0.23356614, -0.24472363,  0.15559659, -0.26545222, -0.27897841,\n",
       "       -0.57169567,  0.48773096, -1.40362845,  0.27489986, -0.16198002,\n",
       "       -0.46675394,  0.78089206,  0.73257465,  0.42077903, -1.68625404])"
      ]
     },
     "execution_count": 11,
     "metadata": {},
     "output_type": "execute_result"
    }
   ],
   "source": [
    "x.ravel()"
   ]
  },
  {
   "cell_type": "code",
   "execution_count": 12,
   "metadata": {},
   "outputs": [
    {
     "data": {
      "text/plain": [
       "array([ 1.82865009,  1.1726096 , -0.44484355, -0.42523048,  0.38834818,\n",
       "        0.23356614, -0.24472363,  0.15559659, -0.26545222, -0.27897841,\n",
       "       -0.57169567,  0.48773096, -1.40362845,  0.27489986, -0.16198002,\n",
       "       -0.46675394,  0.78089206,  0.73257465,  0.42077903, -1.68625404])"
      ]
     },
     "execution_count": 12,
     "metadata": {},
     "output_type": "execute_result"
    }
   ],
   "source": [
    "x.flatten()"
   ]
  },
  {
   "cell_type": "code",
   "execution_count": null,
   "metadata": {},
   "outputs": [],
   "source": []
  }
 ],
 "metadata": {
  "kernelspec": {
   "display_name": "Python 3",
   "language": "python",
   "name": "python3"
  },
  "language_info": {
   "codemirror_mode": {
    "name": "ipython",
    "version": 3
   },
   "file_extension": ".py",
   "mimetype": "text/x-python",
   "name": "python",
   "nbconvert_exporter": "python",
   "pygments_lexer": "ipython3",
   "version": "3.7.3"
  }
 },
 "nbformat": 4,
 "nbformat_minor": 2
}
