{
 "cells": [
  {
   "cell_type": "code",
   "execution_count": 1,
   "metadata": {},
   "outputs": [],
   "source": [
    "import numpy as np"
   ]
  },
  {
   "cell_type": "code",
   "execution_count": 4,
   "metadata": {},
   "outputs": [],
   "source": [
    "x=np.array([9,8,7,6,5])"
   ]
  },
  {
   "cell_type": "code",
   "execution_count": 5,
   "metadata": {},
   "outputs": [
    {
     "data": {
      "text/plain": [
       "array([9, 8, 7, 6, 5])"
      ]
     },
     "execution_count": 5,
     "metadata": {},
     "output_type": "execute_result"
    }
   ],
   "source": [
    "x"
   ]
  },
  {
   "cell_type": "code",
   "execution_count": 6,
   "metadata": {},
   "outputs": [
    {
     "data": {
      "text/plain": [
       "6"
      ]
     },
     "execution_count": 6,
     "metadata": {},
     "output_type": "execute_result"
    }
   ],
   "source": [
    "x[3]"
   ]
  },
  {
   "cell_type": "code",
   "execution_count": 7,
   "metadata": {},
   "outputs": [
    {
     "data": {
      "text/plain": [
       "array([9, 8, 7, 6])"
      ]
     },
     "execution_count": 7,
     "metadata": {},
     "output_type": "execute_result"
    }
   ],
   "source": [
    "x[x>5]"
   ]
  },
  {
   "cell_type": "code",
   "execution_count": 9,
   "metadata": {},
   "outputs": [
    {
     "data": {
      "text/plain": [
       "array([7, 8])"
      ]
     },
     "execution_count": 9,
     "metadata": {},
     "output_type": "execute_result"
    }
   ],
   "source": [
    "x[[2,1]]"
   ]
  },
  {
   "cell_type": "markdown",
   "metadata": {},
   "source": [
    "# Slicing"
   ]
  },
  {
   "cell_type": "code",
   "execution_count": 10,
   "metadata": {},
   "outputs": [],
   "source": [
    "x=np.random.randn(10,10)"
   ]
  },
  {
   "cell_type": "code",
   "execution_count": 11,
   "metadata": {},
   "outputs": [
    {
     "data": {
      "text/plain": [
       "array([[ 1.06604243,  0.57543751, -0.59171469, -0.65624166,  2.02421612,\n",
       "        -0.43010445,  2.08850195, -0.95335408,  1.31138887, -0.03643883],\n",
       "       [ 0.85706954,  0.63235732, -0.4964655 ,  0.21169175,  0.0445468 ,\n",
       "         0.50470569,  1.09465049, -0.6215239 ,  0.11814995,  0.6889398 ],\n",
       "       [-1.42103694,  2.31006435,  1.42566295,  0.34220271, -1.65177507,\n",
       "         1.15056238,  0.67622872, -1.02173959, -0.2249462 ,  0.68358715],\n",
       "       [ 1.12751475,  0.65021337,  0.24571962, -0.85542319,  1.17942381,\n",
       "         1.9865571 , -2.1598774 ,  0.48464647, -0.63105876, -1.00653745],\n",
       "       [ 0.87414498, -0.49418319, -0.57964634,  0.77068523, -0.83348456,\n",
       "         0.73042502,  0.489666  , -0.24577534,  0.68978538,  0.08000956],\n",
       "       [ 1.80839436,  1.47705131, -0.26828626, -1.20328319,  0.26312203,\n",
       "        -0.04525369, -0.45542622,  1.09655255, -1.46536876, -0.76978391],\n",
       "       [ 0.24849248,  0.33412739, -2.25586397,  1.20278506,  0.55377478,\n",
       "         0.28578274,  0.13133332,  0.33232073,  0.87726606, -1.41440212],\n",
       "       [-1.03350984,  0.18171233, -0.10207142,  0.6456206 , -1.26024815,\n",
       "         0.77550058, -0.69971008,  0.18913619, -0.27993213, -0.51584865],\n",
       "       [ 0.51575394, -1.9530355 , -0.27315611, -0.23970373,  2.27951638,\n",
       "         0.09468903, -1.6158699 ,  0.79295241, -0.64526057, -0.81936457],\n",
       "       [-0.27018709,  0.63593094,  1.37782974,  0.16361186,  0.55417598,\n",
       "         0.07179264, -1.54571732,  1.03493898, -0.1536571 ,  0.26085298]])"
      ]
     },
     "execution_count": 11,
     "metadata": {},
     "output_type": "execute_result"
    }
   ],
   "source": [
    "x"
   ]
  },
  {
   "cell_type": "code",
   "execution_count": 12,
   "metadata": {},
   "outputs": [
    {
     "data": {
      "text/plain": [
       "array([ 1.06604243,  0.57543751, -0.59171469, -0.65624166,  2.02421612,\n",
       "       -0.43010445,  2.08850195, -0.95335408,  1.31138887, -0.03643883])"
      ]
     },
     "execution_count": 12,
     "metadata": {},
     "output_type": "execute_result"
    }
   ],
   "source": [
    "x[0]    # first row print"
   ]
  },
  {
   "cell_type": "code",
   "execution_count": 13,
   "metadata": {},
   "outputs": [
    {
     "data": {
      "text/plain": [
       "2.024216117506737"
      ]
     },
     "execution_count": 13,
     "metadata": {},
     "output_type": "execute_result"
    }
   ],
   "source": [
    "x[0][4]   # 0 row 4th column"
   ]
  },
  {
   "cell_type": "code",
   "execution_count": 14,
   "metadata": {},
   "outputs": [
    {
     "data": {
      "text/plain": [
       "array([[ 0.85706954,  0.63235732, -0.4964655 ,  0.21169175,  0.0445468 ,\n",
       "         0.50470569,  1.09465049, -0.6215239 ,  0.11814995,  0.6889398 ],\n",
       "       [ 1.12751475,  0.65021337,  0.24571962, -0.85542319,  1.17942381,\n",
       "         1.9865571 , -2.1598774 ,  0.48464647, -0.63105876, -1.00653745],\n",
       "       [ 1.80839436,  1.47705131, -0.26828626, -1.20328319,  0.26312203,\n",
       "        -0.04525369, -0.45542622,  1.09655255, -1.46536876, -0.76978391],\n",
       "       [-1.03350984,  0.18171233, -0.10207142,  0.6456206 , -1.26024815,\n",
       "         0.77550058, -0.69971008,  0.18913619, -0.27993213, -0.51584865],\n",
       "       [-0.27018709,  0.63593094,  1.37782974,  0.16361186,  0.55417598,\n",
       "         0.07179264, -1.54571732,  1.03493898, -0.1536571 ,  0.26085298]])"
      ]
     },
     "execution_count": 14,
     "metadata": {},
     "output_type": "execute_result"
    }
   ],
   "source": [
    "x[1:10:2]   # 2 column"
   ]
  },
  {
   "cell_type": "code",
   "execution_count": 16,
   "metadata": {},
   "outputs": [],
   "source": [
    "x=np.ones((5,5))"
   ]
  },
  {
   "cell_type": "code",
   "execution_count": 17,
   "metadata": {},
   "outputs": [
    {
     "data": {
      "text/plain": [
       "array([[1., 1., 1., 1., 1.],\n",
       "       [1., 1., 1., 1., 1.],\n",
       "       [1., 1., 1., 1., 1.],\n",
       "       [1., 1., 1., 1., 1.],\n",
       "       [1., 1., 1., 1., 1.]])"
      ]
     },
     "execution_count": 17,
     "metadata": {},
     "output_type": "execute_result"
    }
   ],
   "source": [
    "x"
   ]
  },
  {
   "cell_type": "code",
   "execution_count": 18,
   "metadata": {},
   "outputs": [],
   "source": [
    "x[1:-1,1:-1]=0   # 1 firstrow -1 lastrow and 1 first column -1 lastcolumn   "
   ]
  },
  {
   "cell_type": "code",
   "execution_count": 19,
   "metadata": {},
   "outputs": [
    {
     "data": {
      "text/plain": [
       "array([[1., 1., 1., 1., 1.],\n",
       "       [1., 0., 0., 0., 1.],\n",
       "       [1., 0., 0., 0., 1.],\n",
       "       [1., 0., 0., 0., 1.],\n",
       "       [1., 1., 1., 1., 1.]])"
      ]
     },
     "execution_count": 19,
     "metadata": {},
     "output_type": "execute_result"
    }
   ],
   "source": [
    "x"
   ]
  },
  {
   "cell_type": "code",
   "execution_count": null,
   "metadata": {},
   "outputs": [],
   "source": []
  }
 ],
 "metadata": {
  "kernelspec": {
   "display_name": "Python 3",
   "language": "python",
   "name": "python3"
  },
  "language_info": {
   "codemirror_mode": {
    "name": "ipython",
    "version": 3
   },
   "file_extension": ".py",
   "mimetype": "text/x-python",
   "name": "python",
   "nbconvert_exporter": "python",
   "pygments_lexer": "ipython3",
   "version": "3.7.3"
  }
 },
 "nbformat": 4,
 "nbformat_minor": 2
}
